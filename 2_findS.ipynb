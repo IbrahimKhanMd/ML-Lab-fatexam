{
 "cells": [
  {
   "cell_type": "code",
   "execution_count": null,
   "metadata": {},
   "outputs": [],
   "source": [
    "import pandas as pd\n",
    "import numpy as np\n",
    "from sklearn.datasets import load_iris"
   ]
  },
  {
   "cell_type": "code",
   "execution_count": null,
   "metadata": {},
   "outputs": [],
   "source": [
    "# Load the Iris dataset\n",
    "iris = load_iris()\n",
    "\n",
    "# Create a DataFrame for ease of use\n",
    "X = pd.DataFrame(iris.data, columns=iris.feature_names)\n",
    "y = pd.Series(iris.target, name='target')\n",
    "\n",
    "# Combine features and target into one DataFrame\n",
    "df = pd.concat([X, y], axis=1)\n",
    "\n",
    "# Select only positive examples (e.g., target == 0 corresponds to \"Setosa\")\n",
    "df_positive = df[df['target'] == 0].drop(columns='target').copy()  # Explicitly create a copy to avoid SettingWithCopyWarning\n",
    "\n",
    "# Display the first few rows of positive examples\n",
    "print(\"Positive examples (Setosa):\")\n",
    "print(df_positive.head())\n"
   ]
  },
  {
   "cell_type": "code",
   "execution_count": null,
   "metadata": {},
   "outputs": [],
   "source": [
    "def find_s_algorithm(data):\n",
    "    # Initialize the most specific hypothesis\n",
    "    hypothesis = ['?'] * data.shape[1]\n",
    "    \n",
    "    # Iterate through each example in the dataset\n",
    "    for _, row in data.iterrows():\n",
    "        # Update hypothesis for each positive example\n",
    "        for i in range(len(hypothesis)):\n",
    "            if hypothesis[i] == '?':  # Generalize from '?'\n",
    "                hypothesis[i] = row.iloc[i]  # Use .iloc for position-based access\n",
    "            elif hypothesis[i] != row.iloc[i]:  # Conflict, set to '?'\n",
    "                hypothesis[i] = '?'\n",
    "    \n",
    "    return hypothesis\n"
   ]
  },
  {
   "cell_type": "code",
   "execution_count": null,
   "metadata": {},
   "outputs": [],
   "source": [
    "# Apply the Find-S algorithm to the positive examples\n",
    "final_hypothesis = find_s_algorithm(df_positive)\n",
    "\n",
    "print(\"Final hypothesis using Find-S algorithm:\")\n",
    "print(final_hypothesis)\n"
   ]
  }
 ],
 "metadata": {
  "kernelspec": {
   "display_name": "Python 3",
   "language": "python",
   "name": "python3"
  },
  "language_info": {
   "codemirror_mode": {
    "name": "ipython",
    "version": 3
   },
   "file_extension": ".py",
   "mimetype": "text/x-python",
   "name": "python",
   "nbconvert_exporter": "python",
   "pygments_lexer": "ipython3",
   "version": "3.12.0"
  }
 },
 "nbformat": 4,
 "nbformat_minor": 2
}
