{
 "cells": [
  {
   "cell_type": "code",
   "execution_count": null,
   "metadata": {},
   "outputs": [],
   "source": [
    "# Import required libraries\n",
    "import numpy as np\n",
    "import pandas as pd\n",
    "import matplotlib.pyplot as plt\n",
    "import seaborn as sns\n",
    "from sklearn.datasets import load_iris"
   ]
  },
  {
   "cell_type": "code",
   "execution_count": null,
   "metadata": {},
   "outputs": [],
   "source": [
    "\n",
    "# Load and prepare the iris dataset\n",
    "iris = load_iris()\n",
    "iris_data = pd.DataFrame(data=np.c_[iris['data'], iris['target']], \n",
    "                        columns=[*iris['feature_names'], 'Type'])"
   ]
  },
  {
   "cell_type": "code",
   "execution_count": null,
   "metadata": {},
   "outputs": [],
   "source": [
    "# Convert numerical features to categorical for demonstration\n",
    "for column in iris['feature_names']:\n",
    "    iris_data[column] = pd.qcut(iris_data[column], q=3, labels=['Small', 'Medium', 'Large'])"
   ]
  },
  {
   "cell_type": "code",
   "execution_count": null,
   "metadata": {},
   "outputs": [],
   "source": [
    "# Convert target to binary (Setosa vs Others)\n",
    "iris_data['Type'] = iris_data['Type'].map({0: 'Positive', 1: 'Negative', 2: 'Negative'})"
   ]
  },
  {
   "cell_type": "code",
   "execution_count": null,
   "metadata": {},
   "outputs": [],
   "source": [
    "\n",
    "# Display first few rows\n",
    "print(\"First few rows of the prepared dataset:\")\n",
    "print(iris_data.head())\n",
    "\n",
    "# Basic data info\n",
    "print(\"\\nDataset Info:\")\n",
    "print(iris_data.info())\n",
    "\n",
    "# Check for missing values\n",
    "print(\"\\nMissing Values:\")\n",
    "print(iris_data.isnull().sum())\n",
    "\n",
    "# Visualize the distribution of features for positive examples\n",
    "positive_data = iris_data[iris_data['Type'] == 'Positive']\n",
    "\n",
    "fig, axes = plt.subplots(2, 2, figsize=(12, 8))\n",
    "for idx, feature in enumerate(iris['feature_names']):\n",
    "    sns.countplot(data=positive_data, x=feature, ax=axes[idx//2, idx%2])\n",
    "    axes[idx//2, idx%2].set_title(f'Distribution of {feature}')\n",
    "plt.tight_layout()\n",
    "plt.show()"
   ]
  },
  {
   "cell_type": "code",
   "execution_count": null,
   "metadata": {},
   "outputs": [],
   "source": [
    "\n",
    "# FIND-S Algorithm Implementation\n",
    "target_type = \"Positive\"  # We're looking for characteristics of Setosa (class 0)\n",
    "positive_examples = iris_data[iris_data['Type'] == target_type]\n",
    "\n",
    "if positive_examples.empty:\n",
    "    print(f\"No positive examples found for {target_type}.\")\n",
    "else:\n",
    "    # Initialize the hypothesis to the first positive example's attributes\n",
    "    initial_hypothesis = positive_examples.iloc[0][iris['feature_names']].values.tolist()\n",
    "    \n",
    "    # Apply FIND-S algorithm\n",
    "    for _, example in positive_examples.iterrows():\n",
    "        for i in range(len(initial_hypothesis)):\n",
    "            if initial_hypothesis[i] != example[iris['feature_names']].values[i]:\n",
    "                initial_hypothesis[i] = '?'  # Use '?' to denote a generalization\n",
    "                # Print the final hypothesis\n",
    "    print(\"\\nMost Specific Hypothesis for\", target_type, \"Iris:\")\n",
    "    for feature, value in zip(iris['feature_names'], initial_hypothesis):\n",
    "        print(f\"{feature}: {value}\")"
   ]
  }
 ],
 "metadata": {
  "kernelspec": {
   "display_name": "Python 3",
   "language": "python",
   "name": "python3"
  },
  "language_info": {
   "codemirror_mode": {
    "name": "ipython",
    "version": 3
   },
   "file_extension": ".py",
   "mimetype": "text/x-python",
   "name": "python",
   "nbconvert_exporter": "python",
   "pygments_lexer": "ipython3",
   "version": "3.12.0"
  }
 },
 "nbformat": 4,
 "nbformat_minor": 2
}
